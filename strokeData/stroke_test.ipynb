{
 "cells": [
  {
   "cell_type": "code",
   "execution_count": 60,
   "metadata": {},
   "outputs": [],
   "source": [
    "import pandas as pd\n",
    "import numpy as np\n",
    "import sklearn as skl"
   ]
  },
  {
   "cell_type": "code",
   "execution_count": 61,
   "metadata": {},
   "outputs": [
    {
     "name": "stdout",
     "output_type": "stream",
     "text": [
      "(6486, 12)\n",
      "        id  gender   age  hypertension  heart_disease  ever_married  \\\n",
      "250  30468       2  58.0             1              0             1   \n",
      "252  56543       0  70.0             0              0             1   \n",
      "255  52800       0  52.0             0              0             1   \n",
      "256  41413       0  75.0             0              1             1   \n",
      "257  15266       0  32.0             0              0             1   \n",
      "\n",
      "         work_type  Residence_type  avg_glucose_level   bmi  smoking_status  \\\n",
      "250        Private               1              87.96  39.2               0   \n",
      "252        Private               0              69.04  35.9               1   \n",
      "255        Private               1              77.59  17.7               1   \n",
      "256  Self-employed               0             243.53  27.0               0   \n",
      "257        Private               0              77.67  32.3               2   \n",
      "\n",
      "     stroke  \n",
      "250       0  \n",
      "252       0  \n",
      "255       0  \n",
      "256       0  \n",
      "257       0  \n",
      "0    3246\n",
      "1    3240\n",
      "Name: stroke, dtype: int64\n"
     ]
    }
   ],
   "source": [
    "stroke_data = pd.read_csv(\"healthcare-dataset-stroke-data.csv\")\n",
    "\n",
    "stroke_data['gender'] = stroke_data['gender'].map({'Female':0, 'Male':2, 'Other':1})\n",
    "stroke_data['ever_married'] = stroke_data['ever_married'].map({'No':0, 'Yes':1})\n",
    "stroke_data['Residence_type'] = stroke_data['Residence_type'].map({'Rural': 0, 'Urban': 1})\n",
    "stroke_data['smoking_status'] = stroke_data['smoking_status'].map({'formerly smoked': 1, 'never smoked': 0, 'smokes': 2, 'Unknown': 3})\n",
    "stroke_data.drop(stroke_data[stroke_data['smoking_status'] == 3].index, inplace=True)\n",
    "stroke_data.drop(stroke_data[stroke_data['stroke'] == 5].index, inplace=True)\n",
    "stroke_data.dropna(inplace=True)\n",
    "\n",
    "stroke_pos = stroke_data.drop(stroke_data[stroke_data['stroke'] == 0].index)\n",
    "stroke_neg = stroke_data.drop(stroke_data[stroke_data['stroke'] == 1].index)\n",
    "stroke_data = stroke_neg\n",
    "for i in range(18):\n",
    "    stroke_data = pd.concat([stroke_data, stroke_pos])\n",
    "\n",
    "print(stroke_data.shape)\n",
    "stroke_data.reset_index()\n",
    "\n",
    "print(stroke_data.head())\n",
    "\n",
    "print(stroke_data['stroke'].value_counts())"
   ]
  },
  {
   "cell_type": "code",
   "execution_count": 56,
   "metadata": {},
   "outputs": [
    {
     "name": "stdout",
     "output_type": "stream",
     "text": [
      "     gender   age\n",
      "250       2  58.0\n",
      "252       0  70.0\n",
      "255       0  52.0\n",
      "256       0  75.0\n",
      "257       0  32.0\n"
     ]
    }
   ],
   "source": [
    "from sklearn.model_selection import train_test_split\n",
    "\n",
    "stroke_features = stroke_data[['gender', 'age']]\n",
    "stroke_labels = stroke_data['stroke']\n",
    "print(stroke_features.head())\n",
    "\n",
    "train_features, test_features, train_labels, test_labels = train_test_split(stroke_features, stroke_labels, test_size=0.33)\n"
   ]
  },
  {
   "cell_type": "code",
   "execution_count": 62,
   "metadata": {},
   "outputs": [
    {
     "name": "stdout",
     "output_type": "stream",
     "text": [
      "     gender   age  hypertension  heart_disease  ever_married  Residence_type  \\\n",
      "250       2  58.0             1              0             1               1   \n",
      "252       0  70.0             0              0             1               0   \n",
      "255       0  52.0             0              0             1               1   \n",
      "256       0  75.0             0              1             1               0   \n",
      "257       0  32.0             0              0             1               0   \n",
      "\n",
      "     avg_glucose_level   bmi  smoking_status  \n",
      "250              87.96  39.2               0  \n",
      "252              69.04  35.9               1  \n",
      "255              77.59  17.7               1  \n",
      "256             243.53  27.0               0  \n",
      "257              77.67  32.3               2  \n"
     ]
    }
   ],
   "source": [
    "from sklearn.model_selection import train_test_split\n",
    "\n",
    "stroke_features = stroke_data.drop(['id', 'stroke', 'work_type'], axis=1)\n",
    "stroke_labels = stroke_data['stroke']\n",
    "print(stroke_features.head())\n",
    "\n",
    "train_features, test_features, train_labels, test_labels = train_test_split(stroke_features, stroke_labels, test_size=0.33)"
   ]
  },
  {
   "cell_type": "code",
   "execution_count": 63,
   "metadata": {},
   "outputs": [
    {
     "name": "stdout",
     "output_type": "stream",
     "text": [
      "0.9159271368519384\n",
      "[[ 894  180]\n",
      " [   0 1067]]\n",
      "0.9222126188418324\n",
      "0    1074\n",
      "1    1067\n",
      "Name: stroke, dtype: int64\n",
      "1    1247\n",
      "0     894\n",
      "dtype: int64\n"
     ]
    },
    {
     "name": "stderr",
     "output_type": "stream",
     "text": [
      "/Library/Frameworks/Python.framework/Versions/3.9/lib/python3.9/site-packages/sklearn/neighbors/_classification.py:237: FutureWarning: Unlike other reduction functions (e.g. `skew`, `kurtosis`), the default behavior of `mode` typically preserves the axis it acts along. In SciPy 1.11.0, this behavior will change: the default value of `keepdims` will become False, the `axis` over which the statistic is taken will be eliminated, and the value None will no longer be accepted. Set `keepdims` to True or False to avoid this warning.\n",
      "  mode, _ = stats.mode(_y[neigh_ind, k], axis=1)\n",
      "/Library/Frameworks/Python.framework/Versions/3.9/lib/python3.9/site-packages/sklearn/neighbors/_classification.py:237: FutureWarning: Unlike other reduction functions (e.g. `skew`, `kurtosis`), the default behavior of `mode` typically preserves the axis it acts along. In SciPy 1.11.0, this behavior will change: the default value of `keepdims` will become False, the `axis` over which the statistic is taken will be eliminated, and the value None will no longer be accepted. Set `keepdims` to True or False to avoid this warning.\n",
      "  mode, _ = stats.mode(_y[neigh_ind, k], axis=1)\n"
     ]
    }
   ],
   "source": [
    "from sklearn.neighbors import KNeighborsClassifier\n",
    "from sklearn.metrics import confusion_matrix, f1_score\n",
    "\n",
    "classifier = KNeighborsClassifier(n_neighbors=5)\n",
    "\n",
    "classifier.fit(train_features, train_labels)\n",
    "print(classifier.score(test_features, test_labels))\n",
    "test_predict = classifier.predict(test_features)\n",
    "print(confusion_matrix(test_labels, test_predict))\n",
    "print(f1_score(test_labels, test_predict))\n",
    "print(test_labels.value_counts())\n",
    "print(pd.Series(test_predict).value_counts())\n"
   ]
  },
  {
   "cell_type": "code",
   "execution_count": 59,
   "metadata": {},
   "outputs": [
    {
     "name": "stdout",
     "output_type": "stream",
     "text": [
      "0.7248949089210649\n",
      "[[728 336]\n",
      " [253 824]]\n",
      "0.7367009387572642\n",
      "1    1077\n",
      "0    1064\n",
      "Name: stroke, dtype: int64\n",
      "1    1160\n",
      "0     981\n",
      "dtype: int64\n"
     ]
    }
   ],
   "source": [
    "from sklearn.svm import SVC\n",
    "from sklearn.metrics import confusion_matrix, f1_score\n",
    "\n",
    "classifier = SVC()\n",
    "\n",
    "classifier.fit(train_features, train_labels)\n",
    "print(classifier.score(test_features, test_labels))\n",
    "test_predict = classifier.predict(test_features)\n",
    "print(confusion_matrix(test_labels, test_predict))\n",
    "print(f1_score(test_labels, test_predict))\n",
    "print(test_labels.value_counts())\n",
    "print(pd.Series(test_predict).value_counts())"
   ]
  }
 ],
 "metadata": {
  "kernelspec": {
   "display_name": "Python 3.9.1 64-bit",
   "language": "python",
   "name": "python3"
  },
  "language_info": {
   "codemirror_mode": {
    "name": "ipython",
    "version": 3
   },
   "file_extension": ".py",
   "mimetype": "text/x-python",
   "name": "python",
   "nbconvert_exporter": "python",
   "pygments_lexer": "ipython3",
   "version": "3.9.1"
  },
  "orig_nbformat": 4,
  "vscode": {
   "interpreter": {
    "hash": "7812ea015bdcee6f23a998adcdd2ef97c151c0c241b7b7070987d9313e41299d"
   }
  }
 },
 "nbformat": 4,
 "nbformat_minor": 2
}
